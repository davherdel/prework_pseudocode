{
 "cells": [
  {
   "cell_type": "markdown",
   "metadata": {
    "id": "htzb00VffkoF"
   },
   "source": [
    "## What is Pseudo-code?"
   ]
  },
  {
   "cell_type": "markdown",
   "metadata": {
    "id": "e7LnyOmHfkoG"
   },
   "source": [
    "Pseudocode is a way of expressing the logic of an algorithm in plain English or simple statements that resemble programming code. It is not bound by any specific programming language syntax and focuses on the logic and structure of the solution rather than the precise implementation details. Pseudocode helps in planning, designing, and communicating algorithms effectively."
   ]
  },
  {
   "cell_type": "markdown",
   "metadata": {
    "id": "iZwHTSJIfkoH"
   },
   "source": [
    "### Basic Pseudocode Structure\n",
    "\n",
    "Pseudocode follows a structured format that consists of simple statements, control structures, and variables. Here are some basic elements of pseudocode:\n",
    "\n",
    "- Statements: Each line of pseudocode represents a specific action or instruction, written in plain language. For example, \"Print 'Hello, world!'\" or \"Set x to 5.\"\n",
    "\n",
    "- Variables: Variables are used to store and manipulate data in pseudocode. They are usually represented by names and can be assigned values or used in expressions. For example, \"Set x to 5\" or \"total = x + y.\"\n",
    "\n",
    "- Input/Output: Pseudocode often includes instructions for reading input from the user or displaying output. For example, \"Read user input\" or \"Display result.\"\n",
    "\n",
    "- Control Structures: Pseudocode includes control structures like if-else statements, loops, and function definitions. These control structures help in making decisions and repeating actions. For example, \"If x is greater than 10, then do this\" or \"Repeat until condition is true.\""
   ]
  },
  {
   "cell_type": "markdown",
   "metadata": {
    "id": "vKrZQolMfkoH"
   },
   "source": [
    "### Writing Pseudocode\n",
    "When writing pseudocode, focus on expressing the logic of the algorithm in a clear and understandable manner. Here are some tips to help you get started:\n",
    "- Start with a clear problem statement: Understand the problem you are trying to solve and clearly define the inputs, outputs, and expected behavior.\n",
    "\n",
    "- Break down the problem into smaller steps: Identify the key actions or operations required to solve the problem and outline them step by step.\n",
    "\n",
    "- Use meaningful names: Choose descriptive names for variables and actions to improve readability and understanding.\n",
    "\n",
    "- Keep it simple: Pseudocode should be concise and easy to follow. Avoid unnecessary details and focus on the main steps.\n",
    "\n",
    "- Indentation: Use indentation to represent code blocks within control structures, just like in actual programming languages. This helps visualize the structure and hierarchy of the algorithm.\n",
    "\n",
    "- Test your pseudocode: Before translating pseudocode into actual code, mentally walk through the steps to see if they make sense and cover all necessary operations.\n",
    "\n"
   ]
  },
  {
   "cell_type": "markdown",
   "metadata": {
    "id": "WTjzV1kefkoI"
   },
   "source": [
    "One way to do it is to write on a piece of paper each step you would like to do **even the most obvious step** and then figure out how to write the corresponding code.\n",
    "\n",
    "- Example 1: For every element in this list I want to compute the square of each element.\n",
    "\n",
    "    Look at the sentence, there are at least two keywords: **FOR -> FOR LOOP**, and **list -> list variable**\n",
    "\n",
    "- Example 2: As long as the runner hasn't reached the finish line keep running.\n",
    "\n",
    "    Look at the sentence, there is a condition here for stop. Therefore you should use a **WHILE LOOP**. To make sure the code will run, you need to use a variable to store the state of the condition at the beginning. In addition, you will need another variable to store the progress of the runner!"
   ]
  },
  {
   "cell_type": "markdown",
   "metadata": {
    "id": "q2vRIw1-fkoI"
   },
   "source": [
    "### Examples"
   ]
  },
  {
   "cell_type": "markdown",
   "metadata": {
    "id": "0svxHzKGfkoI"
   },
   "source": [
    "1. Write a program that asks the user for a temperature in Fahrenheit and prints out the same temperature in Celsius."
   ]
  },
  {
   "cell_type": "code",
   "execution_count": 1,
   "metadata": {
    "id": "zS0FGlOpfkoJ"
   },
   "outputs": [],
   "source": [
    "# This is a sample pseudocode"
   ]
  },
  {
   "cell_type": "raw",
   "metadata": {
    "id": "jZix0bvwfkoK"
   },
   "source": [
    "1. Display \"Enter the temperature in Fahrenheit:\"\n",
    "2. Read user input and assign it to the variable 'fahrenheit'\n",
    "3. Convert 'fahrenheit' to Celsius using the formula: celsius = (fahrenheit - 32) * 5/9\n",
    "4. Display \"The temperature in Celsius is \" + celsius"
   ]
  },
  {
   "cell_type": "code",
   "execution_count": 2,
   "metadata": {
    "id": "15BfJlhnfkoK"
   },
   "outputs": [],
   "source": [
    "# Here is the code"
   ]
  },
  {
   "cell_type": "code",
   "execution_count": 3,
   "metadata": {
    "id": "LKb1jVUFfkoK"
   },
   "outputs": [
    {
     "name": "stdout",
     "output_type": "stream",
     "text": [
      "Data type for variable x is  <class 'str'>\n",
      "Your temperature in Celsius is:  60.0\n"
     ]
    }
   ],
   "source": [
    "# Use the input function for user input. Note when we use the input function, data type is string by default\n",
    "x=input('Please input a temperature in Fahrenheit. ')\n",
    "\n",
    "# We can check the data type for variable x\n",
    "print(\"Data type for variable x is \", type(x))\n",
    "\n",
    "y=(float(x)-32)*5/9  # Formula to convert degree to fahreheit\n",
    "\n",
    "print('Your temperature in Celsius is: ', y)"
   ]
  },
  {
   "cell_type": "markdown",
   "metadata": {
    "id": "lpXo9to0fkoL"
   },
   "source": [
    "2. Write a program that converts from Fahrenheit to Celsius or from Celsius to Fahrenheit, depending on the user's choice."
   ]
  },
  {
   "cell_type": "code",
   "execution_count": 4,
   "metadata": {
    "id": "7uEWo7NifkoL"
   },
   "outputs": [],
   "source": [
    "# This is a possible pseudocode"
   ]
  },
  {
   "cell_type": "raw",
   "metadata": {
    "id": "I4HwDqkFfkoL"
   },
   "source": [
    "1. Display \"Enter 1 to convert from Fahrenheit to Celsius or 2 to convert from Celsius to Fahrenheit:\"\n",
    "2. Read user input and assign it to the variable 'choice'\n",
    "3. If 'choice' is equal to 1, go to step 4. Otherwise, go to step 7.\n",
    "4. Display \"Enter the temperature in Fahrenheit:\"\n",
    "5. Read user input and assign it to the variable 'fahrenheit'\n",
    "6. Convert 'fahrenheit' to Celsius using the formula: celsius = (fahrenheit - 32) * 5/9\n",
    "7. If 'choice' is equal to 2, go to step 8. Otherwise, go to step 11.\n",
    "8. Display \"Enter the temperature in Celsius:\"\n",
    "9. Read user input and assign it to the variable 'celsius'\n",
    "10. Convert 'celsius' to Fahrenheit using the formula: fahrenheit = (celsius * 9/5) + 32\n",
    "11. Display \"The converted temperature is \" + fahrenheit + \" degrees Fahrenheit\" (if 'choice' was 1) or \" degrees Celsius\" (if 'choice' was 2)"
   ]
  },
  {
   "cell_type": "code",
   "execution_count": 5,
   "metadata": {
    "id": "Jejg4tT_fkoL"
   },
   "outputs": [],
   "source": [
    "# Here is the code"
   ]
  },
  {
   "cell_type": "code",
   "execution_count": 8,
   "metadata": {
    "id": "igV60bEJfkoL"
   },
   "outputs": [
    {
     "name": "stdout",
     "output_type": "stream",
     "text": [
      "The converted temperature is 109.40 degrees Fahrenheit.\n"
     ]
    }
   ],
   "source": [
    "# Prompt the user to choose a conversion type\n",
    "choice = int(input(\"Press 1 to convert from Fahrenheit to Celsius or Press 2 to convert from Celsius to Fahrenheit: \"))\n",
    "\n",
    "# Based on the choice, asking for the temperature and perform the conversion\n",
    "if choice == 1:\n",
    "    fahrenheit = float(input(\"Enter the temperature in Fahrenheit: \"))\n",
    "    celsius = (fahrenheit - 32) * 5 / 9\n",
    "    print(f\"The converted temperature is {celsius:.2f} degrees Celsius.\")\n",
    "elif choice == 2:\n",
    "    celsius = float(input(\"Enter the temperature in Celsius: \"))\n",
    "    fahrenheit = (celsius * 9 / 5) + 32\n",
    "    print(f\"The converted temperature is {fahrenheit:.2f} degrees Fahrenheit.\")\n",
    "else:\n",
    "    print(\"Invalid choice. Please enter either 1 or 2.\")\n"
   ]
  },
  {
   "cell_type": "markdown",
   "metadata": {
    "id": "lU6c4OfMfkoM",
    "tags": []
   },
   "source": [
    "### Exercise - Writing Pseudocode"
   ]
  },
  {
   "cell_type": "markdown",
   "metadata": {
    "id": "82bDLSunfkoM"
   },
   "source": [
    "To make the code more robust and improve the user experience, write pseudocode and code to add the following enhancements to the last example provided:\n",
    "\n",
    "- Implement a validation loop: After prompting the user for input, we can use a loop to keep asking for the value until a valid one is entered. This ensures that the program does not proceed with incorrect inputs. For example, if the user enters \"3\" instead of \"1\" or \"2\", the program will continue to prompt for the correct choice.\n",
    "\n",
    "- Bonus: Add more input validation. If the user enters a non-numerical value, we can display an error message and prompt for input again.\n",
    "\n",
    "    *Hint:*\n",
    "    - *To remove any leading or trailing spaces from the user's input, you can use the `lstrip()` method. This will remove any spaces from the left side of the input string. Example: input_string = input_string.lstrip(). Also, this method takes an optional argument where you can specify the characters you want to remove from the left side of the string. Example: input_string = input_string.lstrip(\"symbol_to_remove\")*\n",
    "\n",
    "    - *To replace a specific character or substring within a string, you can use the `replace()` method. This method takes two arguments: the old substring you want to replace and the new substring you want to replace it with. Example: input_string = input_string.replace(\"old_value\", \"new_value\")*\n",
    "\n",
    "    - *To check if a string consists only of numerical digits, you can use the `isdigit()` method. This method returns True if all the characters in the string are digits, and False otherwise. Example: is_numeric = input_string.isdigit()*"
   ]
  },
  {
   "cell_type": "code",
   "execution_count": null,
   "metadata": {
    "id": "b9gjufgMfkoM"
   },
   "outputs": [
    {
     "name": "stdout",
     "output_type": "stream",
     "text": [
      "Please choose an option: 1 or 2\n"
     ]
    },
    {
     "name": "stdout",
     "output_type": "stream",
     "text": [
      "Invalid choice. Please enter 1 or 2.\n",
      "Invalid choice. Please enter 1 or 2.\n",
      "Invalid choice. Please enter 1 or 2.\n",
      "Invalid choice. Please enter 1 or 2.\n",
      "You chose option: 1\n"
     ]
    }
   ],
   "source": [
    "# Start with a flag to track if the user has given a valid input\n",
    "valid_input = False\n",
    "\n",
    "# Asking the user what options they have\n",
    "print(\"Please choose an option: 1 or 2\")\n",
    "\n",
    "# Keep asking until we get a valid answer\n",
    "while not valid_input:\n",
    "    # Get the user's input as a string\n",
    "    user_input = input(\"Enter your choice: \")\n",
    "\n",
    "    # Remove leading spaces\n",
    "    user_input = user_input.lstrip()\n",
    "    \n",
    "    # Remove commas if the user enters something like \"1,000\"\n",
    "    user_input = user_input.replace(\",\", \"\")\n",
    "\n",
    "    # Check if the input contains only digits (numbers)\n",
    "    if user_input.isdigit():\n",
    "        # Convert string to integer\n",
    "        choice = int(user_input)\n",
    "        \n",
    "        # Check if the choice is either 1 or 2\n",
    "        if choice in [1, 2]:\n",
    "            valid_input = True  # End loop if valid\n",
    "        else:\n",
    "            print(\"Invalid choice. Please enter 1 or 2.\")\n",
    "    else:\n",
    "        # If input is not numeric, show error\n",
    "        print(\"Invalid input. Please enter a number.\")\n",
    "\n",
    "# Once valid input is given, display it\n",
    "print(f\"You chose option: {choice}\")\n"
   ]
  },
  {
   "cell_type": "markdown",
   "metadata": {},
   "source": [
    "### Exercises included in the IronHack student portal\n",
    "- Responses, not instructions"
   ]
  },
  {
   "cell_type": "code",
   "execution_count": null,
   "metadata": {},
   "outputs": [
    {
     "name": "stdout",
     "output_type": "stream",
     "text": [
      "Please choose an option: 1 or 2\n",
      "Invalid input. Please enter a number.\n",
      "Invalid input. Please enter a number.\n",
      "Invalid input. Please enter a number.\n",
      "Invalid input. Please enter a number.\n",
      "Invalid choice. Please enter 1 or 2.\n",
      "You chose option: 2\n"
     ]
    }
   ],
   "source": [
    "# Ask user to choose an option\n",
    "print(\"Please choose an option: 1 or 2\")\n",
    "\n",
    "valid_input = False  # Flag to control loop\n",
    "\n",
    "while not valid_input:\n",
    "    # Get input from user\n",
    "    user_input = input(\"Enter your choice: \")\n",
    "\n",
    "    # Remove any leading spaces\n",
    "    user_input = user_input.lstrip()\n",
    "\n",
    "    # Example of replacing unwanted characters (optional, here removing '$')\n",
    "    user_input = user_input.replace(\"$\", \"\")\n",
    "\n",
    "    # Check if input is numeric\n",
    "    if user_input.isdigit():\n",
    "        # Convert to intcd \n",
    "        user_choice = int(user_input)\n",
    "\n",
    "        # Check if number is either 1 or 2\n",
    "        if user_choice in [1, 2]:\n",
    "            valid_input = True  # THIS to exit loop\n",
    "        else:\n",
    "            print(\"Invalid choice. Please enter 1 or 2.\")\n",
    "    else:\n",
    "        print(\"Invalid input. Please enter a number.\")\n",
    "\n",
    "# Print the valid choice\n",
    "print(\"You chose option:\", user_choice)\n"
   ]
  }
 ],
 "metadata": {
  "colab": {
   "provenance": []
  },
  "kernelspec": {
   "display_name": "base",
   "language": "python",
   "name": "python3"
  },
  "language_info": {
   "codemirror_mode": {
    "name": "ipython",
    "version": 3
   },
   "file_extension": ".py",
   "mimetype": "text/x-python",
   "name": "python",
   "nbconvert_exporter": "python",
   "pygments_lexer": "ipython3",
   "version": "3.12.7"
  }
 },
 "nbformat": 4,
 "nbformat_minor": 0
}
